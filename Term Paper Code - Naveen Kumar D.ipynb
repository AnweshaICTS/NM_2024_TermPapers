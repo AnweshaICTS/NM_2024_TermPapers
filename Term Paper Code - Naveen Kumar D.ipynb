{
 "cells": [
  {
   "cell_type": "code",
   "execution_count": null,
   "id": "f23f3961",
   "metadata": {},
   "outputs": [],
   "source": [
    "import numpy as np\n",
    "import matplotlib.pyplot as plt\n",
    "from scipy.integrate import solve_ivp\n",
    "from scipy.linalg import toeplitz\n",
    "from ipywidgets import interact\n",
    "from tqdm import tqdm"
   ]
  },
  {
   "cell_type": "markdown",
   "id": "3fa4f5fd",
   "metadata": {},
   "source": [
    "# Reaction-Diffusion systems\n",
    "\n",
    "\\begin{align*}\n",
    "\\partial_t u &= D_u \\nabla^2 u + R_u(u,v)\\\\\n",
    "\\partial_t v &= D_v \\nabla^2 v + R_v(u,v)\n",
    "\\end{align*}"
   ]
  },
  {
   "cell_type": "code",
   "execution_count": null,
   "id": "382d6f3c",
   "metadata": {},
   "outputs": [],
   "source": [
    "# Brusselator\n",
    "Du, Dv = 4, 10\n",
    "A ,B= 3,9\n",
    "def reactions(u, v):\n",
    "    return (A - (B+1)*u + u**2*v, B*u - u**2*v)\n",
    "#     return (0,0)"
   ]
  },
  {
   "cell_type": "code",
   "execution_count": null,
   "id": "f9e27834",
   "metadata": {},
   "outputs": [],
   "source": [
    "# pattern scale\n",
    "L = 10*np.pi\n",
    "ell = 2*np.pi / np.sqrt((B-1)/(2*Du) - A**2/(2*Dv))\n",
    "print(\"Pattern scale =\", L/ell)"
   ]
  },
  {
   "cell_type": "code",
   "execution_count": null,
   "id": "179277b6",
   "metadata": {},
   "outputs": [],
   "source": [
    "# RHS of equation\n",
    "def derivative(t, y, D2):\n",
    "    u1, u2 = np.split(y, 2)\n",
    "    R1, R2 = reactions(u1, u2)\n",
    "    du1dt = Du*np.dot(D2, u1) + R1\n",
    "    du2dt = Dv*np.dot(D2, u2) + R2\n",
    "    return np.concatenate([du1dt, du2dt])"
   ]
  },
  {
   "cell_type": "code",
   "execution_count": null,
   "id": "b72fef94",
   "metadata": {},
   "outputs": [],
   "source": [
    "tmax = 100\n",
    "Nx, Nt = 100, 500\n",
    "\n",
    "# space-time grid points\n",
    "x = np.linspace(0, L, Nx, endpoint=False)\n",
    "times = np.linspace(0, tmax, Nt)"
   ]
  },
  {
   "cell_type": "code",
   "execution_count": null,
   "id": "17957ae7",
   "metadata": {},
   "outputs": [],
   "source": [
    "# second derivative Toeplitz matrix\n",
    "dx = x[1] - x[0]\n",
    "z = np.zeros(x.size)\n",
    "z[0], z[1], z[-1] = -2, 1, 1\n",
    "D2 = toeplitz(z) / dx**2"
   ]
  },
  {
   "cell_type": "code",
   "execution_count": null,
   "id": "3c38cc20",
   "metadata": {},
   "outputs": [],
   "source": [
    "# vector of function values\n",
    "u = np.zeros(Nx)\n",
    "v = np.zeros(Nx)\n",
    "\n",
    "# initial conditions\n",
    "u0 = 3*np.ones(x.size) + 0.01 * np.random.randn(x.size)\n",
    "v0 = 3*np.ones(x.size) + 0.01 * np.random.randn(x.size)\n",
    "# u0 = 3*np.ones(x.size)\n",
    "# v0 = 3*np.ones(x.size)\n",
    "\n",
    "y0 = np.concatenate([u0, v0])"
   ]
  },
  {
   "cell_type": "code",
   "execution_count": null,
   "id": "8e247b2d",
   "metadata": {},
   "outputs": [],
   "source": [
    "# solve the diffusion equation\n",
    "sol = solve_ivp(derivative, t_span=[0, tmax], y0=y0, t_eval=times, args=(D2,), method='RK45')\n",
    "u, v = np.split(sol.y, 2, axis=0)"
   ]
  },
  {
   "cell_type": "code",
   "execution_count": null,
   "id": "a9584042",
   "metadata": {},
   "outputs": [],
   "source": [
    "cmin, cmax = sol.y.min(), sol.y.max()\n",
    "fig, (ax1, ax2) = plt.subplots(1, 2, figsize=(8,6), dpi=75)\n",
    "cf1 = ax1.contourf(x, times, u.transpose(), vmin=cmin, vmax=cmax)\n",
    "fig.colorbar(cf1)\n",
    "fig.align_xlabels()\n",
    "cf2 = ax2.contourf(x, times, v.transpose(), vmin=cmin, vmax=cmax)\n",
    "fig.colorbar(cf2)\n",
    "plt.savefig(fname='Brusselator')"
   ]
  },
  {
   "cell_type": "code",
   "execution_count": null,
   "id": "30dc1ede",
   "metadata": {},
   "outputs": [],
   "source": [
    "# for i in tqdm(range(168,172)):\n",
    "for i in tqdm(range(times.size)):\n",
    "    plt.plot(x,u[:,i])\n",
    "    plt.plot(x,v[:,i])\n",
    "#     plt.ylim(0,5)\n",
    "    plt.xlabel(\"Position(x)\")\n",
    "    plt.ylabel(\"Concentration\")\n",
    "    plt.legend([\"u\",\"v\"], loc=1)\n",
    "    plt.savefig(fname=str(int(i))+'.png')\n",
    "    plt.pause(0.01)\n",
    "    plt.clf()"
   ]
  }
 ],
 "metadata": {
  "kernelspec": {
   "display_name": "Python 3 (ipykernel)",
   "language": "python",
   "name": "python3"
  },
  "language_info": {
   "codemirror_mode": {
    "name": "ipython",
    "version": 3
   },
   "file_extension": ".py",
   "mimetype": "text/x-python",
   "name": "python",
   "nbconvert_exporter": "python",
   "pygments_lexer": "ipython3",
   "version": "3.10.12"
  }
 },
 "nbformat": 4,
 "nbformat_minor": 5
}
